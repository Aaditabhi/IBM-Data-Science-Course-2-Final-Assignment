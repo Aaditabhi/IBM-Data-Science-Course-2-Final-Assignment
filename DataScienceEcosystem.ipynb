{
 "cells": [
  {
   "cell_type": "markdown",
   "id": "0f6f981d-f252-4fca-879c-988b1827c41a",
   "metadata": {},
   "source": [
    "# Data Science Tools and Ecosystem"
   ]
  },
  {
   "cell_type": "markdown",
   "id": "9402550d-5610-4427-9e86-fa662b723ced",
   "metadata": {},
   "source": [
    "## Author\n",
    "Aadit Abhilash"
   ]
  },
  {
   "cell_type": "markdown",
   "id": "61db8f2a-2db5-4615-8212-d93f17378a3c",
   "metadata": {},
   "source": [
    "### In this notebook, Data Science Tools and Ecosystem are summarized."
   ]
  },
  {
   "cell_type": "markdown",
   "id": "20ee4e89-b30f-4c11-a987-eebe8aadf44d",
   "metadata": {},
   "source": [
    "**Objectives:**\n",
    "* Popular Data Science languages\n",
    "* Common Data Science libraries\n",
    "* Example of evaluating arithmetic expressions in Python"
   ]
  },
  {
   "cell_type": "markdown",
   "id": "65fa75c3-d065-4f27-abd8-68b166328a31",
   "metadata": {},
   "source": [
    "### Some of the popular languages that Data Scientists use are:\n",
    "1. Python\n",
    "2. R\n",
    "3. Java"
   ]
  },
  {
   "cell_type": "markdown",
   "id": "2c75e9a3-dfee-4ef9-8cfe-fc82a559e456",
   "metadata": {},
   "source": [
    "### Some of the commonly used libraries used by Data Scientists include:\n",
    "1. Matplotlib\n",
    "2. TensorFlow\n",
    "3. NumPy"
   ]
  },
  {
   "cell_type": "markdown",
   "id": "ed18e37d-94b6-4a61-aa02-d96b6afa5fc2",
   "metadata": {},
   "source": [
    "| Data Science Tools |\n",
    "|:-:|\n",
    "|Jupyter Notebook|\n",
    "|Rstudio|\n",
    "|Apache Zepellin"
   ]
  },
  {
   "cell_type": "markdown",
   "id": "7a2fd956-c027-47c9-8292-fc86f98f7d7d",
   "metadata": {},
   "source": [
    "### Below are a few examples of evaluating arithmetic expressions in Python"
   ]
  },
  {
   "cell_type": "code",
   "execution_count": 16,
   "id": "0ba07323-221a-4bd7-8a5b-c51dc14ad261",
   "metadata": {},
   "outputs": [
    {
     "data": {
      "text/plain": [
       "17"
      ]
     },
     "execution_count": 16,
     "metadata": {},
     "output_type": "execute_result"
    }
   ],
   "source": [
    "# This a simple arithmetic expression to mutiply then add integers \n",
    "(3*4) + 5"
   ]
  },
  {
   "cell_type": "code",
   "execution_count": 20,
   "id": "5b18f3c3-19ea-4fb4-8c78-506281e2c174",
   "metadata": {},
   "outputs": [
    {
     "data": {
      "text/plain": [
       "3.3333333333333335"
      ]
     },
     "execution_count": 20,
     "metadata": {},
     "output_type": "execute_result"
    }
   ],
   "source": [
    "# This will convert 200 minutes to hours by diving by 60\n",
    "200/60"
   ]
  },
  {
   "cell_type": "code",
   "execution_count": null,
   "id": "4fea1b49-a4c7-4167-9842-ee39f1070c61",
   "metadata": {},
   "outputs": [],
   "source": []
  }
 ],
 "metadata": {
  "kernelspec": {
   "display_name": "Python 3 (ipykernel)",
   "language": "python",
   "name": "python3"
  },
  "language_info": {
   "codemirror_mode": {
    "name": "ipython",
    "version": 3
   },
   "file_extension": ".py",
   "mimetype": "text/x-python",
   "name": "python",
   "nbconvert_exporter": "python",
   "pygments_lexer": "ipython3",
   "version": "3.11.7"
  }
 },
 "nbformat": 4,
 "nbformat_minor": 5
}
